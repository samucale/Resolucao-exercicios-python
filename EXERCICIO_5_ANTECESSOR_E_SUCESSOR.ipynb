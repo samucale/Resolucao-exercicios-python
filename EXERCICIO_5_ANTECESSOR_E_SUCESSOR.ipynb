{
  "nbformat": 4,
  "nbformat_minor": 0,
  "metadata": {
    "colab": {
      "name": "EXERCICIO 5 ANTECESSOR E SUCESSOR",
      "provenance": [],
      "mount_file_id": "1Xf8Dq-l8lOnAW4vX9XAUWELOHgd8c7B_",
      "authorship_tag": "ABX9TyP31zoqfqI8vE+lFWT5CUK6",
      "include_colab_link": true
    },
    "kernelspec": {
      "name": "python3",
      "display_name": "Python 3"
    }
  },
  "cells": [
    {
      "cell_type": "markdown",
      "metadata": {
        "id": "view-in-github",
        "colab_type": "text"
      },
      "source": [
        "<a href=\"https://colab.research.google.com/github/samucale/Resolucao-exercicios-python-Udemy/blob/master/EXERCICIO_5_ANTECESSOR_E_SUCESSOR.ipynb\" target=\"_parent\"><img src=\"https://colab.research.google.com/assets/colab-badge.svg\" alt=\"Open In Colab\"/></a>"
      ]
    },
    {
      "cell_type": "markdown",
      "metadata": {
        "id": "Ori2eIF9CimK"
      },
      "source": [
        "**EXERCICIO 5 ANTECESSOR E SUCESSOR**"
      ]
    },
    {
      "cell_type": "code",
      "metadata": {
        "colab": {
          "base_uri": "https://localhost:8080/"
        },
        "id": "wI8sLhxNCLjV",
        "outputId": "bcfa1397-d601-4d57-efcf-8ec3aefe65bb"
      },
      "source": [
        "n= int(input('digite um numero :'))\r\n",
        "\r\n",
        "print ('Analisando o valor {} seu antecessor é {} e seu sucessor é {}'.format (n,(n-1),(n+1)))\r\n"
      ],
      "execution_count": 9,
      "outputs": [
        {
          "output_type": "stream",
          "text": [
            "digite um numero : 2\n",
            "Analisando o valor 2 seu antecessor é 1 e seu sucessor é 3\n"
          ],
          "name": "stdout"
        }
      ]
    },
    {
      "cell_type": "markdown",
      "metadata": {
        "id": "Y5VqTNr7CcH9"
      },
      "source": [
        ""
      ]
    }
  ]
}