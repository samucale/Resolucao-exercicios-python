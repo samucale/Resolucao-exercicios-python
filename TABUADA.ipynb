{
  "nbformat": 4,
  "nbformat_minor": 0,
  "metadata": {
    "colab": {
      "name": "TABUADA ",
      "provenance": [],
      "authorship_tag": "ABX9TyMRRPT0kxiP0+MYmkfdAxql",
      "include_colab_link": true
    },
    "kernelspec": {
      "name": "python3",
      "display_name": "Python 3"
    }
  },
  "cells": [
    {
      "cell_type": "markdown",
      "metadata": {
        "id": "view-in-github",
        "colab_type": "text"
      },
      "source": [
        "<a href=\"https://colab.research.google.com/github/samucale/Resolucao-exercicios-python-Udemy/blob/master/TABUADA.ipynb\" target=\"_parent\"><img src=\"https://colab.research.google.com/assets/colab-badge.svg\" alt=\"Open In Colab\"/></a>"
      ]
    },
    {
      "cell_type": "markdown",
      "metadata": {
        "id": "c-6Dd6SuUffJ"
      },
      "source": [
        "**TABUADA**"
      ]
    },
    {
      "cell_type": "code",
      "metadata": {
        "colab": {
          "base_uri": "https://localhost:8080/"
        },
        "id": "eSEuGpFgUZyC",
        "outputId": "162ca2cb-3579-4eea-d51f-37fdb2e964f1"
      },
      "source": [
        "num = int(input('digite um numero para ver sua tabuada :'))\r\n",
        "print ('{} x {} = {}'.format(num ,1, num*1))\r\n",
        "print ('{} x {} = {}'.format(num ,2, num*2))\r\n",
        "print ('{} x {} = {}'.format(num ,3, num*3))\r\n",
        "print ('{} x {} = {}'.format(num ,4, num*4))\r\n",
        "print ('{} x {} = {}'.format(num ,5, num*5))\r\n",
        "print ('{} x {} = {}'.format(num ,6, num*6))\r\n",
        "print ('{} x {} = {}'.format(num ,7, num*7))\r\n",
        "print ('{} x {} = {}'.format(num ,8, num*8))\r\n",
        "print ('{} x {} = {}'.format(num ,9, num*9))\r\n",
        "print ('{} x {} = {}'.format(num ,10, num*10))\r\n"
      ],
      "execution_count": 2,
      "outputs": [
        {
          "output_type": "stream",
          "text": [
            "digite um numero para ver sua tabuada :2\n",
            "2 x 1 = 2\n",
            "2 x 2 = 4\n",
            "2 x 3 = 6\n",
            "2 x 4 = 8\n",
            "2 x 5 = 10\n",
            "2 x 6 = 12\n",
            "2 x 7 = 14\n",
            "2 x 8 = 16\n",
            "2 x 9 = 18\n",
            "2 x 10 = 20\n"
          ],
          "name": "stdout"
        }
      ]
    }
  ]
}