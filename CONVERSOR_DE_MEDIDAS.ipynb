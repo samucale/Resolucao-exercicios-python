{
  "nbformat": 4,
  "nbformat_minor": 0,
  "metadata": {
    "colab": {
      "name": "CONVERSOR DE MEDIDAS ",
      "provenance": [],
      "authorship_tag": "ABX9TyP8W7NtCjlwVMMuhsxRrBlU",
      "include_colab_link": true
    },
    "kernelspec": {
      "name": "python3",
      "display_name": "Python 3"
    }
  },
  "cells": [
    {
      "cell_type": "markdown",
      "metadata": {
        "id": "view-in-github",
        "colab_type": "text"
      },
      "source": [
        "<a href=\"https://colab.research.google.com/github/samucale/Resolucao-exercicios-python-Udemy/blob/master/CONVERSOR_DE_MEDIDAS.ipynb\" target=\"_parent\"><img src=\"https://colab.research.google.com/assets/colab-badge.svg\" alt=\"Open In Colab\"/></a>"
      ]
    },
    {
      "cell_type": "markdown",
      "metadata": {
        "id": "8ypxCxaQRi8p"
      },
      "source": [
        "**CONVERSOR DE MEDIDAS** "
      ]
    },
    {
      "cell_type": "code",
      "metadata": {
        "colab": {
          "base_uri": "https://localhost:8080/"
        },
        "id": "Qwa2Eyj0RptM",
        "outputId": "9ce168c4-e30e-4192-f381-728b0b9a0a55"
      },
      "source": [
        "m = float(input('uma distancia em metros '))\r\n",
        "cm = m * 100\r\n",
        "mm = m * 1000\r\n",
        "print ('A medida de {} corresponde a {}cm e {}mm'.format (m,cm,mm))\r\n"
      ],
      "execution_count": 1,
      "outputs": [
        {
          "output_type": "stream",
          "text": [
            "uma distancia em metros 3\n",
            "A medida de 3.0 corresponde a 300.0cm e 3000.0mm\n"
          ],
          "name": "stdout"
        }
      ]
    }
  ]
}