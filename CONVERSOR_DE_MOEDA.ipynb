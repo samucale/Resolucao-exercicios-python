{
  "nbformat": 4,
  "nbformat_minor": 0,
  "metadata": {
    "colab": {
      "name": "CONVERSOR DE MOEDA",
      "provenance": [],
      "authorship_tag": "ABX9TyPuICaHEX37m83/1fBf2Cqw",
      "include_colab_link": true
    },
    "kernelspec": {
      "name": "python3",
      "display_name": "Python 3"
    }
  },
  "cells": [
    {
      "cell_type": "markdown",
      "metadata": {
        "id": "view-in-github",
        "colab_type": "text"
      },
      "source": [
        "<a href=\"https://colab.research.google.com/github/samucale/Resolucao-exercicios-python/blob/master/CONVERSOR_DE_MOEDA.ipynb\" target=\"_parent\"><img src=\"https://colab.research.google.com/assets/colab-badge.svg\" alt=\"Open In Colab\"/></a>"
      ]
    },
    {
      "cell_type": "code",
      "metadata": {
        "id": "OhntUqATQUSp"
      },
      "source": [
        ""
      ],
      "execution_count": null,
      "outputs": []
    },
    {
      "cell_type": "markdown",
      "metadata": {
        "id": "RxZJA2aVQVOM"
      },
      "source": [
        "**CONVERSOR DE MOEDA**"
      ]
    },
    {
      "cell_type": "code",
      "metadata": {
        "colab": {
          "base_uri": "https://localhost:8080/"
        },
        "id": "hp0dmaKJQcNk",
        "outputId": "a2aaa3b2-e42c-4516-b2b8-83b8e8ac0be5"
      },
      "source": [
        "real = float(input('Quanto e dinheiro voce tem na carteira? R$ '))\n",
        "dolar=real / 5.20\n",
        "print('Com R$ {:.2f} VOCE,CONSEGUE COMPRAR {:.2f} US$'.format(real,dolar))"
      ],
      "execution_count": 10,
      "outputs": [
        {
          "output_type": "stream",
          "text": [
            "Quanto e dinheiro voce tem na carteira? R$ 100.32\n",
            "Com R$ 100.32 VOCE,CONSEGUE COMPRAR 19.29 US$\n"
          ],
          "name": "stdout"
        }
      ]
    }
  ]
}