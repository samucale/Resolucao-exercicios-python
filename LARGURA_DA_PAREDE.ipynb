{
  "nbformat": 4,
  "nbformat_minor": 0,
  "metadata": {
    "colab": {
      "name": "LARGURA DA PAREDE",
      "provenance": [],
      "authorship_tag": "ABX9TyPAELnlWI0QrAImtETingqL",
      "include_colab_link": true
    },
    "kernelspec": {
      "name": "python3",
      "display_name": "Python 3"
    }
  },
  "cells": [
    {
      "cell_type": "markdown",
      "metadata": {
        "id": "view-in-github",
        "colab_type": "text"
      },
      "source": [
        "<a href=\"https://colab.research.google.com/github/samucale/Resolucao-exercicios-python/blob/master/LARGURA_DA_PAREDE.ipynb\" target=\"_parent\"><img src=\"https://colab.research.google.com/assets/colab-badge.svg\" alt=\"Open In Colab\"/></a>"
      ]
    },
    {
      "cell_type": "markdown",
      "metadata": {
        "id": "cX8TpOvU3o8O"
      },
      "source": [
        "**LARGURA DA PAREDE**"
      ]
    },
    {
      "cell_type": "code",
      "metadata": {
        "colab": {
          "base_uri": "https://localhost:8080/"
        },
        "id": "D17Lv_Qt4krI",
        "outputId": "2c271631-d41f-4fbb-ae7c-b46876931595"
      },
      "source": [
        "larg = float (input('Qual a largura da parede ? '))\r\n",
        "alt = float (input('Qual a altura da parede ? '))\r\n",
        "area = larg * alt\r\n",
        "print ('Sua parede tem a dimensão de {} x {} e sua area é de {} m '.format (larg,alt,area))\r\n",
        "tinta = area / 2\r\n",
        "print ('Para pintar essa parede ,você vai precisar de {}l de tinta .'.format(tinta))\r\n"
      ],
      "execution_count": 6,
      "outputs": [
        {
          "output_type": "stream",
          "text": [
            "Qual a largura da parede ? 5\n",
            "Qual a altura da parede ? 5\n",
            "Sua parede tem a dimensão de 5.0 x 5.0 e sua area é de 25.0 m \n",
            "Para pintar essa parede ,você vai precisar de 12.5 l de tinta .\n"
          ],
          "name": "stdout"
        }
      ]
    }
  ]
}