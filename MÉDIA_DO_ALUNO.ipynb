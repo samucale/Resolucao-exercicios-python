{
  "nbformat": 4,
  "nbformat_minor": 0,
  "metadata": {
    "colab": {
      "name": "MÉDIA DO ALUNO",
      "provenance": [],
      "authorship_tag": "ABX9TyNA+H3BKl83QXGjwUGKhBt+",
      "include_colab_link": true
    },
    "kernelspec": {
      "name": "python3",
      "display_name": "Python 3"
    }
  },
  "cells": [
    {
      "cell_type": "markdown",
      "metadata": {
        "id": "view-in-github",
        "colab_type": "text"
      },
      "source": [
        "<a href=\"https://colab.research.google.com/github/samucale/Resolucao-exercicios-python-Udemy/blob/master/M%C3%89DIA_DO_ALUNO.ipynb\" target=\"_parent\"><img src=\"https://colab.research.google.com/assets/colab-badge.svg\" alt=\"Open In Colab\"/></a>"
      ]
    },
    {
      "cell_type": "markdown",
      "metadata": {
        "id": "_5M0s6wNN1l4"
      },
      "source": [
        "**MEDIA DO ALUNO**"
      ]
    },
    {
      "cell_type": "code",
      "metadata": {
        "colab": {
          "base_uri": "https://localhost:8080/"
        },
        "id": "ebXjF4vPN_jo",
        "outputId": "90a8107b-3ea3-4833-c3f1-39a3d964c2f5"
      },
      "source": [
        "n1= float (input('primeira nota:'))\r\n",
        "n2= float (input('segunda nota :'))\r\n",
        "média  = (n1 + n2)/2\r\n",
        "print ('A media entre {} e {} é igual a {} '.format (n1,n2,média))\r\n"
      ],
      "execution_count": 3,
      "outputs": [
        {
          "output_type": "stream",
          "text": [
            "primeira nota:5\n",
            "segunda nota :6\n",
            "A media entre 5.0 e 6.0 é igual a 5.5 \n"
          ],
          "name": "stdout"
        }
      ]
    },
    {
      "cell_type": "markdown",
      "metadata": {
        "id": "hPGZ5f8xN5g8"
      },
      "source": [
        ""
      ]
    }
  ]
}