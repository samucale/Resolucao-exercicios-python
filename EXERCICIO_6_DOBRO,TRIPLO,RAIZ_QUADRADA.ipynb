{
  "nbformat": 4,
  "nbformat_minor": 0,
  "metadata": {
    "colab": {
      "name": "EXERCICIO 6 - DOBRO,TRIPLO,RAIZ QUADRADA",
      "provenance": [],
      "authorship_tag": "ABX9TyMEbXeS3yH0+4LUo32fY9ed",
      "include_colab_link": true
    },
    "kernelspec": {
      "name": "python3",
      "display_name": "Python 3"
    }
  },
  "cells": [
    {
      "cell_type": "markdown",
      "metadata": {
        "id": "view-in-github",
        "colab_type": "text"
      },
      "source": [
        "<a href=\"https://colab.research.google.com/github/samucale/Resolucao-exercicios-python-Udemy/blob/master/EXERCICIO_6_DOBRO%2CTRIPLO%2CRAIZ_QUADRADA.ipynb\" target=\"_parent\"><img src=\"https://colab.research.google.com/assets/colab-badge.svg\" alt=\"Open In Colab\"/></a>"
      ]
    },
    {
      "cell_type": "markdown",
      "metadata": {
        "id": "TH-Bqje3Gx4g"
      },
      "source": [
        "  **EXERCICIO 6 - DOBRO,TRIPLO,RAIZ QUADRADA**"
      ]
    },
    {
      "cell_type": "code",
      "metadata": {
        "colab": {
          "base_uri": "https://localhost:8080/"
        },
        "id": "7HmcF0ykGsGr",
        "outputId": "422b85b4-5835-4ff4-a75d-2705e38646d9"
      },
      "source": [
        "n= int(input('digite um numero : '))\r\n",
        "d = n * 2 \r\n",
        "t = n * 3\r\n",
        "r = n ** (1/2)\r\n",
        "print ('o dobro de {} vale {}'.format (n,d))\r\n",
        "print ('o triplo de {} vale {}'.format (n,t))\r\n",
        "print ('A raiz quadrada de {} vale {}'.format (n,r))\r\n",
        "\r\n",
        "\r\n",
        "\r\n"
      ],
      "execution_count": 2,
      "outputs": [
        {
          "output_type": "stream",
          "text": [
            "digite um numero : 1\n",
            "o dobro de 1 vale 2\n",
            "o triplo de 1 vale 3\n",
            "A raiz quadrada de 1 vale 1.0\n"
          ],
          "name": "stdout"
        }
      ]
    },
    {
      "cell_type": "markdown",
      "metadata": {
        "id": "KgMcz-7zGxaY"
      },
      "source": [
        ""
      ]
    }
  ]
}